{
 "cells": [
  {
   "cell_type": "markdown",
   "id": "5d58cbd9",
   "metadata": {},
   "source": [
    "# Caso de uso Hadoop"
   ]
  },
  {
   "cell_type": "markdown",
   "id": "f56edbe4",
   "metadata": {},
   "source": [
    "A continuación, se detalla un caso de uso en el cual se emplearán las herramientas instaladas. Se utilizará un cuaderno de Jupyter como plataforma de interacción mediante el uso de Python como lenguaje de programación. Se parte de la base de que el usuario ya posee un conocimiento básico sobre dicho lenguaje y del manejo de los cuadernos de Jupyter. Este cuaderno es una adaptación propia del artículo \"How to use Spark SQL: A hands-on tutorial\" del autor Dipanjan Sarkar publicado en la web opensource.com (https://opensource.com/article/19/3/apache-spark-and-dataframes-tutorial). \n",
    "\n",
    "Se empleará el dataset KDD Cup 1999 (https://www.kdd.org/kdd-cup/view/kdd-cup-1999/Data), el cual consta de un conjunto de datos de red que se utilizaron en una competencia de minería de datos celebrada en 1999. El conjunto de datos representa una simulación de una red de computadoras de una empresa con actividades normales y anómalas. Se muestra una cantidad sustancial de tráfico normal de red, así como varios tipos de ataques simulados, como ataques de denial of service (DoS), ataques de intrusión remota a través de programas maliciosos y ataques de probing. El objetivo de la competencia era desarrollar modelos de detección de intrusiones que pudieran distinguir entre el tráfico normal y el tráfico anómalo. Cuenta con aproximadamente 5 millones de registros y se ha utilizado ampliamente en la investigación en el campo de la ciberseguridad. "
   ]
  },
  {
   "cell_type": "markdown",
   "id": "b932c866",
   "metadata": {},
   "source": [
    "### Calentando motores"
   ]
  },
  {
   "cell_type": "markdown",
   "id": "0b363d54",
   "metadata": {},
   "source": [
    "En primer lugar, se instalan las respectivas dependencias."
   ]
  },
  {
   "cell_type": "code",
   "execution_count": 4,
   "id": "3451d00f",
   "metadata": {
    "collapsed": true
   },
   "outputs": [
    {
     "name": "stdout",
     "output_type": "stream",
     "text": [
      "Requirement already satisfied: matplotlib in ./lib/python3.10/site-packages (3.7.2)\n",
      "Requirement already satisfied: contourpy>=1.0.1 in ./lib/python3.10/site-packages (from matplotlib) (1.1.0)\n",
      "Requirement already satisfied: cycler>=0.10 in ./lib/python3.10/site-packages (from matplotlib) (0.11.0)\n",
      "Requirement already satisfied: fonttools>=4.22.0 in ./lib/python3.10/site-packages (from matplotlib) (4.41.0)\n",
      "Requirement already satisfied: kiwisolver>=1.0.1 in ./lib/python3.10/site-packages (from matplotlib) (1.4.4)\n",
      "Requirement already satisfied: numpy>=1.20 in ./lib/python3.10/site-packages (from matplotlib) (1.25.1)\n",
      "Requirement already satisfied: packaging>=20.0 in ./lib/python3.10/site-packages (from matplotlib) (23.1)\n",
      "Requirement already satisfied: pillow>=6.2.0 in ./lib/python3.10/site-packages (from matplotlib) (10.0.0)\n",
      "Requirement already satisfied: pyparsing<3.1,>=2.3.1 in ./lib/python3.10/site-packages (from matplotlib) (3.0.9)\n",
      "Requirement already satisfied: python-dateutil>=2.7 in ./lib/python3.10/site-packages (from matplotlib) (2.8.2)\n",
      "Requirement already satisfied: six>=1.5 in ./lib/python3.10/site-packages (from python-dateutil>=2.7->matplotlib) (1.16.0)\n",
      "\n",
      "\u001b[1m[\u001b[0m\u001b[34;49mnotice\u001b[0m\u001b[1;39;49m]\u001b[0m\u001b[39;49m A new release of pip is available: \u001b[0m\u001b[31;49m23.1.2\u001b[0m\u001b[39;49m -> \u001b[0m\u001b[32;49m23.2\u001b[0m\n",
      "\u001b[1m[\u001b[0m\u001b[34;49mnotice\u001b[0m\u001b[1;39;49m]\u001b[0m\u001b[39;49m To update, run: \u001b[0m\u001b[32;49mpip install --upgrade pip\u001b[0m\n",
      "Requirement already satisfied: pandas in ./lib/python3.10/site-packages (2.0.3)\n",
      "Requirement already satisfied: python-dateutil>=2.8.2 in ./lib/python3.10/site-packages (from pandas) (2.8.2)\n",
      "Requirement already satisfied: pytz>=2020.1 in ./lib/python3.10/site-packages (from pandas) (2023.3)\n",
      "Requirement already satisfied: tzdata>=2022.1 in ./lib/python3.10/site-packages (from pandas) (2023.3)\n",
      "Requirement already satisfied: numpy>=1.21.0 in ./lib/python3.10/site-packages (from pandas) (1.25.1)\n",
      "Requirement already satisfied: six>=1.5 in ./lib/python3.10/site-packages (from python-dateutil>=2.8.2->pandas) (1.16.0)\n",
      "\n",
      "\u001b[1m[\u001b[0m\u001b[34;49mnotice\u001b[0m\u001b[1;39;49m]\u001b[0m\u001b[39;49m A new release of pip is available: \u001b[0m\u001b[31;49m23.1.2\u001b[0m\u001b[39;49m -> \u001b[0m\u001b[32;49m23.2\u001b[0m\n",
      "\u001b[1m[\u001b[0m\u001b[34;49mnotice\u001b[0m\u001b[1;39;49m]\u001b[0m\u001b[39;49m To update, run: \u001b[0m\u001b[32;49mpip install --upgrade pip\u001b[0m\n",
      "Requirement already satisfied: pyarrow in ./lib/python3.10/site-packages (12.0.1)\n",
      "Requirement already satisfied: numpy>=1.16.6 in ./lib/python3.10/site-packages (from pyarrow) (1.25.1)\n",
      "\n",
      "\u001b[1m[\u001b[0m\u001b[34;49mnotice\u001b[0m\u001b[1;39;49m]\u001b[0m\u001b[39;49m A new release of pip is available: \u001b[0m\u001b[31;49m23.1.2\u001b[0m\u001b[39;49m -> \u001b[0m\u001b[32;49m23.2\u001b[0m\n",
      "\u001b[1m[\u001b[0m\u001b[34;49mnotice\u001b[0m\u001b[1;39;49m]\u001b[0m\u001b[39;49m To update, run: \u001b[0m\u001b[32;49mpip install --upgrade pip\u001b[0m\n"
     ]
    }
   ],
   "source": [
    "\n",
    "!pip install matplotlib\n",
    "!pip install pandas\n"
   ]
  },
  {
   "cell_type": "markdown",
   "id": "2d23aa36",
   "metadata": {},
   "source": [
    "Se importan las librerías necesarias."
   ]
  },
  {
   "cell_type": "code",
   "execution_count": 1,
   "id": "ef0d19a5",
   "metadata": {},
   "outputs": [],
   "source": [
    "\n",
    "import pandas as pd\n",
    "import matplotlib.pyplot as plt\n",
    "import urllib.request\n",
    "import os\n",
    "import gzip\n",
    "import shutil\n",
    "import subprocess\n",
    "\n",
    "from pyspark import SparkContext\n",
    "from pyspark.sql import SQLContext\n",
    "from pyspark.sql import SparkSession\n",
    "from pyspark.sql import Row\n"
   ]
  },
  {
   "cell_type": "markdown",
   "id": "3f729f6b",
   "metadata": {},
   "source": [
    "### Recuperación de los datos"
   ]
  },
  {
   "cell_type": "markdown",
   "id": "f495aab4",
   "metadata": {},
   "source": [
    "Se descarga y descomprime el dataset en el sistema de archivos local. "
   ]
  },
  {
   "cell_type": "code",
   "execution_count": 2,
   "id": "c980d83e",
   "metadata": {},
   "outputs": [],
   "source": [
    "\n",
    "# Se define la fuente y el destino del dataset\n",
    "url = \"https://raw.githubusercontent.com/aj-data/HadoopVMProject/main/datasets/kddcup/kddcup.data.gz\"\n",
    "file_path = os.path.expanduser(\"~/temp/kddcup_data.gz\")\n",
    "\n",
    "# Se obtiene el dataset y se guarda en local\n",
    "urllib.request.urlretrieve(url, file_path)\n",
    "\n",
    "# Se verifica la descarga del dataset\n",
    "if os.path.exists(file_path):\n",
    "    print(\"El archivo se ha descargado en la siguiente ubicación:\", file_path)\n",
    "else:\n",
    "    print(\"El archivo no se ha descargado o la ruta es incorrecta.\")\n",
    "\n",
    "# Se define la ruta para el archivo descomprimido\n",
    "uncompressed_file_path = os.path.expanduser(\"~/temp/kddcup_data.csv\")\n",
    "\n",
    "# Se descomprime el archivo\n",
    "with gzip.open(file_path, 'rb') as f_in:\n",
    "    with open(uncompressed_file_path, 'wb') as f_out:\n",
    "        shutil.copyfileobj(f_in, f_out)\n",
    "\n",
    "print(\"El archivo se ha descomprimido correctamente en la siguiente ubicación:\", uncompressed_file_path)\n"
   ]
  },
  {
   "cell_type": "markdown",
   "id": "58706b93",
   "metadata": {},
   "source": [
    "Luego se sube al sistema de archivos HDFS. "
   ]
  },
  {
   "cell_type": "code",
   "execution_count": 3,
   "id": "d179a801",
   "metadata": {},
   "outputs": [],
   "source": [
    "\n",
    "# Ruta del archivo CSV local\n",
    "local_file = uncompressed_file_path\n",
    "\n",
    "# Ruta de destino en HDFS\n",
    "hdfs_path = \"/datasets/kddcup/kddcup_data.csv\"\n",
    "\n",
    "# Comando para subir el archivo a HDFS\n",
    "command_folder = [\"hdfs\", \"dfs\", \"-mkdir\", \"/datasets/kddcup\"]\n",
    "command_put = [\"hdfs\", \"dfs\", \"-put\", local_file, hdfs_path]\n",
    "\n",
    "# Ejecutar los comandos\n",
    "subprocess.run(command_folder)\n",
    "subprocess.run(command_put)\n"
   ]
  },
  {
   "cell_type": "markdown",
   "id": "d567b609",
   "metadata": {},
   "source": [
    "### Instancia de SparkContext"
   ]
  },
  {
   "cell_type": "markdown",
   "id": "3fde2f8b",
   "metadata": {},
   "source": [
    "Se crea una instancia SparkContext llamada \"CasoDeUso\" que sirve como interfaz para ejecutar de forma local cualquier programa Spark. Además, se ajusta el nivel de log para que solo muestre en panatalla los errores asociados al código. "
   ]
  },
  {
   "cell_type": "code",
   "execution_count": 2,
   "id": "112e2b06",
   "metadata": {},
   "outputs": [
    {
     "name": "stderr",
     "output_type": "stream",
     "text": [
      "Setting default log level to \"WARN\".\n",
      "To adjust logging level use sc.setLogLevel(newLevel). For SparkR, use setLogLevel(newLevel).\n",
      "23/07/20 12:20:48 WARN NativeCodeLoader: Unable to load native-hadoop library for your platform... using builtin-java classes where applicable\n"
     ]
    }
   ],
   "source": [
    "\n",
    "# Se crea un SparkContext\n",
    "sc = SparkContext(\"local\", \"CasoDeUso\")\n",
    "\n",
    "# Ajusta el nivel de registro\n",
    "sc.setLogLevel(\"ERROR\")\n"
   ]
  },
  {
   "cell_type": "markdown",
   "id": "72ec133c",
   "metadata": {},
   "source": [
    "### Carga del dataset como RDD "
   ]
  },
  {
   "cell_type": "markdown",
   "id": "a25ac852",
   "metadata": {},
   "source": [
    "Una vez se tienen los datos almacenados en el sistema de archivos de HDFS, se cargan en la estructura de datos abstracta tradicional de Spark, esto es, Conjunto de Datos Distribuido Resistente, RDD por sus siglas en inglés. Los RDDs son la estructura central en Spark, permitiendo un procesamiento de datos en paralelo, distribuido y tolerante a fallos.  "
   ]
  },
  {
   "cell_type": "code",
   "execution_count": 3,
   "id": "a2246f9f",
   "metadata": {},
   "outputs": [],
   "source": [
    "\n",
    "# Se especifica la ruta del CSV en HDFS\n",
    "hdfs_file_path = \"hdfs://localhost:9000/datasets/kddcup/kddcup_data.csv\"\n",
    "\n",
    "# Se carga el CSV en RDD\n",
    "rdd = sc.textFile(hdfs_file_path)\n"
   ]
  },
  {
   "cell_type": "markdown",
   "id": "3c0c51cb",
   "metadata": {},
   "source": [
    "Se ejecutan operaciones sobre el RDD y se muestran, por ejemplo, las cinco primeras líneas del conjunto de datos para ver su forma. "
   ]
  },
  {
   "cell_type": "code",
   "execution_count": 10,
   "id": "4119f112",
   "metadata": {},
   "outputs": [
    {
     "name": "stderr",
     "output_type": "stream",
     "text": [
      "                                                                                \r"
     ]
    },
    {
     "name": "stdout",
     "output_type": "stream",
     "text": [
      "0,tcp,http,SF,215,45076,0,0,0,0,0,1,0,0,0,0,0,0,0,0,0,0,1,1,0.00,0.00,0.00,0.00,1.00,0.00,0.00,0,0,0.00,0.00,0.00,0.00,0.00,0.00,0.00,0.00,normal.\n",
      "0,tcp,http,SF,162,4528,0,0,0,0,0,1,0,0,0,0,0,0,0,0,0,0,2,2,0.00,0.00,0.00,0.00,1.00,0.00,0.00,1,1,1.00,0.00,1.00,0.00,0.00,0.00,0.00,0.00,normal.\n",
      "0,tcp,http,SF,236,1228,0,0,0,0,0,1,0,0,0,0,0,0,0,0,0,0,1,1,0.00,0.00,0.00,0.00,1.00,0.00,0.00,2,2,1.00,0.00,0.50,0.00,0.00,0.00,0.00,0.00,normal.\n",
      "0,tcp,http,SF,233,2032,0,0,0,0,0,1,0,0,0,0,0,0,0,0,0,0,2,2,0.00,0.00,0.00,0.00,1.00,0.00,0.00,3,3,1.00,0.00,0.33,0.00,0.00,0.00,0.00,0.00,normal.\n",
      "0,tcp,http,SF,239,486,0,0,0,0,0,1,0,0,0,0,0,0,0,0,0,0,3,3,0.00,0.00,0.00,0.00,1.00,0.00,0.00,4,4,1.00,0.00,0.25,0.00,0.00,0.00,0.00,0.00,normal.\n"
     ]
    }
   ],
   "source": [
    "%%time\n",
    "\n",
    "# Se cuenta el numero de lineas\n",
    "line_count = rdd.count()\n",
    "\n",
    "# Se muestran las primeras 5 lineas del RDD\n",
    "lines = rdd.take(5)\n",
    "for line in lines:\n",
    "    print(line)\n"
   ]
  },
  {
   "cell_type": "markdown",
   "id": "f88ac951",
   "metadata": {},
   "source": [
    "Se verifica el tipo de rdd."
   ]
  },
  {
   "cell_type": "code",
   "execution_count": 4,
   "id": "e6991a73",
   "metadata": {},
   "outputs": [
    {
     "data": {
      "text/plain": [
       "pyspark.rdd.RDD"
      ]
     },
     "execution_count": 4,
     "metadata": {},
     "output_type": "execute_result"
    }
   ],
   "source": [
    "\n",
    "type(rdd)\n"
   ]
  },
  {
   "cell_type": "markdown",
   "id": "c4d47c12",
   "metadata": {},
   "source": [
    "### Construcción del DataFrame de Spark"
   ]
  },
  {
   "cell_type": "markdown",
   "id": "74e02197",
   "metadata": {},
   "source": [
    "Un DataFrame de Spark es una estructura de datos que representa una colección distribuida de datos. Pueden ser construidos a partir de una amplia variedad de fuentes, como archivos de datos estructurados, tablas en Hive, bases de datos externas o RDDs existentes como en este caso.\n",
    "\n",
    "Se crea una instancia de SQLContext a partir de un objeto SparkContext (sc), que es la entrada predeterminada para trabajar con Spark en Python. SQLContext se utiliza para crear DataFrames, ejecutar consultas SQL y acceder a funciones de agregación."
   ]
  },
  {
   "cell_type": "code",
   "execution_count": 5,
   "id": "0f4479ec",
   "metadata": {},
   "outputs": [
    {
     "name": "stderr",
     "output_type": "stream",
     "text": [
      "/usr/local/spark/python/lib/pyspark.zip/pyspark/sql/context.py:112: FutureWarning: Deprecated in 3.0.0. Use SparkSession.builder.getOrCreate() instead.\n"
     ]
    },
    {
     "data": {
      "text/plain": [
       "<pyspark.sql.context.SQLContext at 0x7fb5cc72de10>"
      ]
     },
     "execution_count": 5,
     "metadata": {},
     "output_type": "execute_result"
    }
   ],
   "source": [
    "\n",
    "sqlContext = SQLContext(sc)\n",
    "sqlContext \n"
   ]
  },
  {
   "cell_type": "markdown",
   "id": "0d49ea68",
   "metadata": {},
   "source": [
    "Cada entrada del RDD es una línea de datos separada por comas que primero se debe dividir antes de poder analizar y construir el DataFrame de Spark. "
   ]
  },
  {
   "cell_type": "code",
   "execution_count": 7,
   "id": "b651bb05",
   "metadata": {},
   "outputs": [
    {
     "name": "stderr",
     "output_type": "stream",
     "text": [
      "[Stage 0:>                                                          (0 + 1) / 1]\r"
     ]
    },
    {
     "name": "stdout",
     "output_type": "stream",
     "text": [
      "[['0', 'tcp', 'http', 'SF', '215', '45076', '0', '0', '0', '0', '0', '1', '0', '0', '0', '0', '0', '0', '0', '0', '0', '0', '1', '1', '0.00', '0.00', '0.00', '0.00', '1.00', '0.00', '0.00', '0', '0', '0.00', '0.00', '0.00', '0.00', '0.00', '0.00', '0.00', '0.00', 'normal.'], ['0', 'tcp', 'http', 'SF', '162', '4528', '0', '0', '0', '0', '0', '1', '0', '0', '0', '0', '0', '0', '0', '0', '0', '0', '2', '2', '0.00', '0.00', '0.00', '0.00', '1.00', '0.00', '0.00', '1', '1', '1.00', '0.00', '1.00', '0.00', '0.00', '0.00', '0.00', '0.00', 'normal.']]\n",
      "<class 'pyspark.rdd.PipelinedRDD'>\n"
     ]
    },
    {
     "name": "stderr",
     "output_type": "stream",
     "text": [
      "                                                                                \r"
     ]
    }
   ],
   "source": [
    "\n",
    "csv_rdd = rdd.map(lambda row: row.split(\",\"))\n",
    "print(csv_rdd.take(2))\n",
    "print(type(csv_rdd))\n"
   ]
  },
  {
   "cell_type": "code",
   "execution_count": 8,
   "id": "8612eac9",
   "metadata": {},
   "outputs": [
    {
     "data": {
      "text/plain": [
       "42"
      ]
     },
     "execution_count": 8,
     "metadata": {},
     "output_type": "execute_result"
    }
   ],
   "source": [
    "\n",
    "len(csv_rdd.take(1)[0])\n"
   ]
  },
  {
   "cell_type": "markdown",
   "id": "89ea7334",
   "metadata": {},
   "source": [
    "Los datos de la KDD 99 Cup consisten en diferentes atributos capturados a partir de datos de conexión. En este ejercicio, solo se usarán algunas columnas específicas del conjunto de datos, cuyos detalles se especifican a continuación. "
   ]
  },
  {
   "cell_type": "markdown",
   "id": "cede3a05",
   "metadata": {},
   "source": [
    "| feature num | feat. name (nombre)| description (descripción)                                    | type (tipo)|\n",
    "|-------------|--------------------|--------------------------------------------------------------|------------|\n",
    "| 1           | duration           | longitud (número de segundos) de la conexión                 | continuo   |\n",
    "| 2           | protocol_type      | tipo de protocolo, por ej. tcp, udp, etc.                    | discreto   |\n",
    "| 3           | service            | servicio de red en el destino, por ej. http, telnet, etc.    | discreto   |\n",
    "| 4           | src_bytes          | número de bytes de datos desde el origen hasta el destino    | continuo   |\n",
    "| 5           | dst_bytes          | número de bytes de datos desde el destino hasta el origen    | continuo   |\n",
    "| 6           | flag               | estado normal o de error de la conexión\t                  | discreto   |\n",
    "| 7           | wrong_fragment     | número de fragmentos \"incorrectos\"                           | continuo   |\n",
    "| 8           | urgent             | número de paquetes urgentes                                  | continuo   |\n",
    "| 9           | hot                | número de indicadores \"calientes\"                            | continuo   |\n",
    "| 10          | num_failed_logins  | intentos de inicio de sesión fallidos                        | continuo   |\n",
    "| 11          | num_compromised    | número de condiciones \"comprometidas\"                        | continuo   |\n",
    "| 12          | su_attempted       | 1 si se intentó el comando \"su root\"; 0 de lo contrario      | discreto   |\n",
    "| 13          | num_root           | número de accesos de \"root\"                                  | continuo   |\n",
    "| 14          | num_file_creations | número de operaciones de creación de archivo                 | continuo   |\n",
    "| 15          | label              | categorización de la conexión.                               | discreto   |\n",
    "\n"
   ]
  },
  {
   "cell_type": "markdown",
   "id": "28f60ba5",
   "metadata": {},
   "source": [
    "Se extraen las siguientes columnas en función de sus posiciones en cada punto de datos (fila) y se construye un nuevo RDD de la siguiente manera."
   ]
  },
  {
   "cell_type": "code",
   "execution_count": 9,
   "id": "59d09c70",
   "metadata": {},
   "outputs": [
    {
     "data": {
      "text/plain": [
       "[Row(duration=0, protocol_type='tcp', service='http', flag='SF', src_bytes=215, dst_bytes=45076, wrong_fragment=0, urgent=0, hot=0, num_failed_logins=0, num_compromised=0, su_attempted='0', num_root=0, num_file_creations=0, label='normal.'),\n",
       " Row(duration=0, protocol_type='tcp', service='http', flag='SF', src_bytes=162, dst_bytes=4528, wrong_fragment=0, urgent=0, hot=0, num_failed_logins=0, num_compromised=0, su_attempted='0', num_root=0, num_file_creations=0, label='normal.'),\n",
       " Row(duration=0, protocol_type='tcp', service='http', flag='SF', src_bytes=236, dst_bytes=1228, wrong_fragment=0, urgent=0, hot=0, num_failed_logins=0, num_compromised=0, su_attempted='0', num_root=0, num_file_creations=0, label='normal.'),\n",
       " Row(duration=0, protocol_type='tcp', service='http', flag='SF', src_bytes=233, dst_bytes=2032, wrong_fragment=0, urgent=0, hot=0, num_failed_logins=0, num_compromised=0, su_attempted='0', num_root=0, num_file_creations=0, label='normal.'),\n",
       " Row(duration=0, protocol_type='tcp', service='http', flag='SF', src_bytes=239, dst_bytes=486, wrong_fragment=0, urgent=0, hot=0, num_failed_logins=0, num_compromised=0, su_attempted='0', num_root=0, num_file_creations=0, label='normal.')]"
      ]
     },
     "execution_count": 9,
     "metadata": {},
     "output_type": "execute_result"
    }
   ],
   "source": [
    "\n",
    "parsed_rdd = csv_rdd.map(lambda r: Row(\n",
    "    duration=int(r[0]), \n",
    "    protocol_type=r[1],\n",
    "    service=r[2],\n",
    "    flag=r[3],\n",
    "    src_bytes=int(r[4]),\n",
    "    dst_bytes=int(r[5]),\n",
    "    wrong_fragment=int(r[7]),\n",
    "    urgent=int(r[8]),\n",
    "    hot=int(r[9]),\n",
    "    num_failed_logins=int(r[10]),\n",
    "    num_compromised=int(r[12]),\n",
    "    su_attempted=r[14],\n",
    "    num_root=int(r[15]),\n",
    "    num_file_creations=int(r[16]),\n",
    "    label=r[-1]\n",
    "    )\n",
    ")\n",
    "parsed_rdd.take(5)\n",
    "\n"
   ]
  },
  {
   "cell_type": "markdown",
   "id": "37aeeae1",
   "metadata": {},
   "source": [
    "Una vez los datos están ordenados y formateados se procede a construir el DataFrame de Spark. "
   ]
  },
  {
   "cell_type": "code",
   "execution_count": 10,
   "id": "d5d95213",
   "metadata": {
    "scrolled": true
   },
   "outputs": [
    {
     "data": {
      "text/plain": [
       "[Row(duration=0, protocol_type='tcp', service='http', flag='SF', src_bytes=215, dst_bytes=45076, wrong_fragment=0, urgent=0, hot=0, num_failed_logins=0, num_compromised=0, su_attempted='0', num_root=0, num_file_creations=0, label='normal.'),\n",
       " Row(duration=0, protocol_type='tcp', service='http', flag='SF', src_bytes=162, dst_bytes=4528, wrong_fragment=0, urgent=0, hot=0, num_failed_logins=0, num_compromised=0, su_attempted='0', num_root=0, num_file_creations=0, label='normal.'),\n",
       " Row(duration=0, protocol_type='tcp', service='http', flag='SF', src_bytes=236, dst_bytes=1228, wrong_fragment=0, urgent=0, hot=0, num_failed_logins=0, num_compromised=0, su_attempted='0', num_root=0, num_file_creations=0, label='normal.'),\n",
       " Row(duration=0, protocol_type='tcp', service='http', flag='SF', src_bytes=233, dst_bytes=2032, wrong_fragment=0, urgent=0, hot=0, num_failed_logins=0, num_compromised=0, su_attempted='0', num_root=0, num_file_creations=0, label='normal.'),\n",
       " Row(duration=0, protocol_type='tcp', service='http', flag='SF', src_bytes=239, dst_bytes=486, wrong_fragment=0, urgent=0, hot=0, num_failed_logins=0, num_compromised=0, su_attempted='0', num_root=0, num_file_creations=0, label='normal.'),\n",
       " Row(duration=0, protocol_type='tcp', service='http', flag='SF', src_bytes=238, dst_bytes=1282, wrong_fragment=0, urgent=0, hot=0, num_failed_logins=0, num_compromised=0, su_attempted='0', num_root=0, num_file_creations=0, label='normal.'),\n",
       " Row(duration=0, protocol_type='tcp', service='http', flag='SF', src_bytes=235, dst_bytes=1337, wrong_fragment=0, urgent=0, hot=0, num_failed_logins=0, num_compromised=0, su_attempted='0', num_root=0, num_file_creations=0, label='normal.'),\n",
       " Row(duration=0, protocol_type='tcp', service='http', flag='SF', src_bytes=234, dst_bytes=1364, wrong_fragment=0, urgent=0, hot=0, num_failed_logins=0, num_compromised=0, su_attempted='0', num_root=0, num_file_creations=0, label='normal.'),\n",
       " Row(duration=0, protocol_type='tcp', service='http', flag='SF', src_bytes=239, dst_bytes=1295, wrong_fragment=0, urgent=0, hot=0, num_failed_logins=0, num_compromised=0, su_attempted='0', num_root=0, num_file_creations=0, label='normal.'),\n",
       " Row(duration=0, protocol_type='tcp', service='http', flag='SF', src_bytes=181, dst_bytes=5450, wrong_fragment=0, urgent=0, hot=0, num_failed_logins=0, num_compromised=0, su_attempted='0', num_root=0, num_file_creations=0, label='normal.')]"
      ]
     },
     "metadata": {},
     "output_type": "display_data"
    }
   ],
   "source": [
    "\n",
    "df = sqlContext.createDataFrame(parsed_rdd)\n",
    "display(df.head(10))\n"
   ]
  },
  {
   "cell_type": "markdown",
   "id": "e1f39e83",
   "metadata": {},
   "source": [
    "Se comprueba que df efectivamente sea un DataFrame de Spark."
   ]
  },
  {
   "cell_type": "code",
   "execution_count": 11,
   "id": "ba66cf9d",
   "metadata": {
    "scrolled": true
   },
   "outputs": [
    {
     "data": {
      "text/plain": [
       "pyspark.sql.dataframe.DataFrame"
      ]
     },
     "execution_count": 11,
     "metadata": {},
     "output_type": "execute_result"
    }
   ],
   "source": [
    "\n",
    "type(df)\n"
   ]
  },
  {
   "cell_type": "code",
   "execution_count": 12,
   "id": "c5a6126f",
   "metadata": {},
   "outputs": [
    {
     "name": "stdout",
     "output_type": "stream",
     "text": [
      "root\n",
      " |-- duration: long (nullable = true)\n",
      " |-- protocol_type: string (nullable = true)\n",
      " |-- service: string (nullable = true)\n",
      " |-- flag: string (nullable = true)\n",
      " |-- src_bytes: long (nullable = true)\n",
      " |-- dst_bytes: long (nullable = true)\n",
      " |-- wrong_fragment: long (nullable = true)\n",
      " |-- urgent: long (nullable = true)\n",
      " |-- hot: long (nullable = true)\n",
      " |-- num_failed_logins: long (nullable = true)\n",
      " |-- num_compromised: long (nullable = true)\n",
      " |-- su_attempted: string (nullable = true)\n",
      " |-- num_root: long (nullable = true)\n",
      " |-- num_file_creations: long (nullable = true)\n",
      " |-- label: string (nullable = true)\n",
      "\n"
     ]
    }
   ],
   "source": [
    "\n",
    "df.printSchema()\n"
   ]
  },
  {
   "cell_type": "markdown",
   "id": "c3e9b77f",
   "metadata": {},
   "source": [
    "### Construcción de una tabla temporal "
   ]
  },
  {
   "cell_type": "markdown",
   "id": "856cd140",
   "metadata": {},
   "source": [
    "Es posible usar la función registerTempTable() para construir una tabla temporal y ejecutar comandos SQL en nuestro DataFrame. Hay que tener en cuenta que la duración de esta tabla temporal está vinculada a la sesión pues construye una tabla en memoria que está limitada al clúster en el que se creó. Los datos se almacenan utilizando el formato columnar en memoria altamente optimizado de Hive. "
   ]
  },
  {
   "cell_type": "code",
   "execution_count": 18,
   "id": "9ab5addf",
   "metadata": {},
   "outputs": [
    {
     "name": "stdout",
     "output_type": "stream",
     "text": [
      "Help on method registerTempTable in module pyspark.sql.dataframe:\n",
      "\n",
      "registerTempTable(name: str) -> None method of pyspark.sql.dataframe.DataFrame instance\n",
      "    Registers this :class:`DataFrame` as a temporary table using the given name.\n",
      "    \n",
      "    The lifetime of this temporary table is tied to the :class:`SparkSession`\n",
      "    that was used to create this :class:`DataFrame`.\n",
      "    \n",
      "    .. versionadded:: 1.3.0\n",
      "    \n",
      "    .. versionchanged:: 3.4.0\n",
      "        Supports Spark Connect.\n",
      "    \n",
      "    .. deprecated:: 2.0.0\n",
      "        Use :meth:`DataFrame.createOrReplaceTempView` instead.\n",
      "    \n",
      "    Parameters\n",
      "    ----------\n",
      "    name : str\n",
      "        Name of the temporary table to register.\n",
      "    \n",
      "    Examples\n",
      "    --------\n",
      "    >>> df = spark.createDataFrame([(2, \"Alice\"), (5, \"Bob\")], schema=[\"age\", \"name\"])\n",
      "    >>> df.registerTempTable(\"people\")\n",
      "    >>> df2 = spark.sql(\"SELECT * FROM people\")\n",
      "    >>> sorted(df.collect()) == sorted(df2.collect())\n",
      "    True\n",
      "    >>> spark.catalog.dropTempView(\"people\")\n",
      "    True\n",
      "\n"
     ]
    }
   ],
   "source": [
    "\n",
    "help(df.registerTempTable)\n"
   ]
  },
  {
   "cell_type": "markdown",
   "id": "ba47b48d",
   "metadata": {},
   "source": [
    "Mediante el siguiente código se contruye la tabla temporal basada en el DataFrame de Spark que se viene trabajando (df) y le asignamos el nombre de \"connections\". "
   ]
  },
  {
   "cell_type": "code",
   "execution_count": 13,
   "id": "277a924a",
   "metadata": {},
   "outputs": [
    {
     "name": "stderr",
     "output_type": "stream",
     "text": [
      "/usr/local/spark/python/lib/pyspark.zip/pyspark/sql/dataframe.py:330: FutureWarning: Deprecated in 2.0, use createOrReplaceTempView instead.\n",
      "  warnings.warn(\"Deprecated in 2.0, use createOrReplaceTempView instead.\", FutureWarning)\n"
     ]
    }
   ],
   "source": [
    "\n",
    "df.registerTempTable(\"connections\")\n"
   ]
  },
  {
   "cell_type": "markdown",
   "id": "edda53b6",
   "metadata": {},
   "source": [
    "### Ejecución de consultas SQL "
   ]
  },
  {
   "cell_type": "markdown",
   "id": "ef37c483",
   "metadata": {},
   "source": [
    "En este punto ya es posible aprovechar la capacidad de ejecutar consultas SQL sobre la tabla temporal basada en nuestro DataFrame de Spark. Se comienza con algunas consultas simples y luego se harán agregaciones, filtros, ordenamiento, subconsultas y pivotes. \n",
    "\n",
    "En primer lugar, se obtiene el número total de conexiones según el tipo de protocolo de conexión. Se calcula esta información utilizando las funciones de agregación tradicionales. "
   ]
  },
  {
   "cell_type": "code",
   "execution_count": 20,
   "id": "4e98bb94",
   "metadata": {},
   "outputs": [
    {
     "name": "stderr",
     "output_type": "stream",
     "text": [
      "[Stage 9:=================================================>         (5 + 1) / 6]\r"
     ]
    },
    {
     "name": "stdout",
     "output_type": "stream",
     "text": [
      "+-------------+-------+\n",
      "|protocol_type|  count|\n",
      "+-------------+-------+\n",
      "|         icmp|2833545|\n",
      "|          tcp|1870598|\n",
      "|          udp| 194288|\n",
      "+-------------+-------+\n",
      "\n",
      "CPU times: user 19.6 ms, sys: 9.52 ms, total: 29.1 ms\n",
      "Wall time: 1min 28s\n"
     ]
    },
    {
     "name": "stderr",
     "output_type": "stream",
     "text": [
      "                                                                                \r"
     ]
    }
   ],
   "source": [
    "\n",
    "%%time\n",
    "\n",
    "df.groupBy('protocol_type').count().orderBy('count', ascending=False).show()\n"
   ]
  },
  {
   "cell_type": "markdown",
   "id": "c9c7b801",
   "metadata": {},
   "source": [
    "De forma alternativa, se realiza la misma consulta con consultas SQL propiamente. "
   ]
  },
  {
   "cell_type": "code",
   "execution_count": 28,
   "id": "908964c8",
   "metadata": {},
   "outputs": [
    {
     "name": "stderr",
     "output_type": "stream",
     "text": [
      "[Stage 23:================================================>         (5 + 1) / 6]\r"
     ]
    },
    {
     "name": "stdout",
     "output_type": "stream",
     "text": [
      "+-------------+-------+\n",
      "|protocol_type|   freq|\n",
      "+-------------+-------+\n",
      "|         icmp|2833545|\n",
      "|          tcp|1870598|\n",
      "|          udp| 194288|\n",
      "+-------------+-------+\n",
      "\n",
      "CPU times: user 16.8 ms, sys: 14.1 ms, total: 30.9 ms\n",
      "Wall time: 1min 31s\n"
     ]
    },
    {
     "name": "stderr",
     "output_type": "stream",
     "text": [
      "                                                                                \r"
     ]
    }
   ],
   "source": [
    "\n",
    "%%time\n",
    "\n",
    "protocols = sqlContext.sql(\"\"\"\n",
    "                           SELECT protocol_type, count(*) as freq\n",
    "                           FROM connections\n",
    "                           GROUP BY protocol_type\n",
    "                           ORDER BY 2 DESC\n",
    "                           \"\"\")\n",
    "\n",
    "protocols.show()\n"
   ]
  },
  {
   "cell_type": "markdown",
   "id": "2aee835a",
   "metadata": {},
   "source": [
    "Como se puede observar, el resultado es el mismo. Esto confirma que es posible aprovechar todas las ventajas de Spark sin necesidad de aprender un nuevo lenguaje y realizando consultas en lenguaje SQL. \n",
    "\n",
    "Se muestra una tabla de frecuencias ordenada de la columna \"label\" que describe el tipo de conexión."
   ]
  },
  {
   "cell_type": "code",
   "execution_count": 16,
   "id": "56e6e7aa",
   "metadata": {},
   "outputs": [
    {
     "name": "stderr",
     "output_type": "stream",
     "text": [
      "[Stage 22:================================================>         (5 + 1) / 6]\r"
     ]
    },
    {
     "name": "stdout",
     "output_type": "stream",
     "text": [
      "+----------------+-------+\n",
      "|           label|   freq|\n",
      "+----------------+-------+\n",
      "|          smurf.|2807886|\n",
      "|        neptune.|1072017|\n",
      "|         normal.| 972781|\n",
      "|          satan.|  15892|\n",
      "|        ipsweep.|  12481|\n",
      "|      portsweep.|  10413|\n",
      "|           nmap.|   2316|\n",
      "|           back.|   2203|\n",
      "|    warezclient.|   1020|\n",
      "|       teardrop.|    979|\n",
      "|            pod.|    264|\n",
      "|   guess_passwd.|     53|\n",
      "|buffer_overflow.|     30|\n",
      "|           land.|     21|\n",
      "|    warezmaster.|     20|\n",
      "|           imap.|     12|\n",
      "|        rootkit.|     10|\n",
      "|     loadmodule.|      9|\n",
      "|      ftp_write.|      8|\n",
      "|       multihop.|      7|\n",
      "+----------------+-------+\n",
      "only showing top 20 rows\n",
      "\n",
      "CPU times: user 29.5 ms, sys: 4.26 ms, total: 33.7 ms\n",
      "Wall time: 1min 28s\n"
     ]
    },
    {
     "name": "stderr",
     "output_type": "stream",
     "text": [
      "                                                                                \r"
     ]
    }
   ],
   "source": [
    "\n",
    "%%time\n",
    "\n",
    "labels = sqlContext.sql(\"\"\"\n",
    "                           SELECT label, count(*) as freq\n",
    "                           FROM connections\n",
    "                           GROUP BY label\n",
    "                           ORDER BY 2 DESC\n",
    "                           \"\"\")\n",
    "labels.show()\n"
   ]
  },
  {
   "cell_type": "markdown",
   "id": "27d791d6",
   "metadata": {},
   "source": [
    "Aprovechando la flexibilidad que nos proporciona emplear SQL, se hace una consulta que devuelva una lista de frecuencias ordenada de mayor a menor de las etiquetas asignadas a cada una de las conexiones donde \"normal\" corresponde a conexiones regulares no ofensivas y cualquier otro valor indica una potencial conexión maliciosa. "
   ]
  },
  {
   "cell_type": "code",
   "execution_count": 14,
   "id": "15390126",
   "metadata": {},
   "outputs": [
    {
     "name": "stderr",
     "output_type": "stream",
     "text": [
      "                                                                                \r"
     ]
    },
    {
     "name": "stdout",
     "output_type": "stream",
     "text": [
      "+-------------+-------+----------+\n",
      "|tipo_conexion|  count|porcentaje|\n",
      "+-------------+-------+----------+\n",
      "|       ataque|3925650|    80.14%|\n",
      "|       normal| 972781|    19.86%|\n",
      "+-------------+-------+----------+\n",
      "\n",
      "CPU times: user 46.8 ms, sys: 3.88 ms, total: 50.7 ms\n",
      "Wall time: 2min 48s\n"
     ]
    }
   ],
   "source": [
    "\n",
    "%%time\n",
    "\n",
    "labels_bin = sqlContext.sql(\"\"\"\n",
    "                            SELECT \n",
    "                              CASE \n",
    "                                WHEN label = 'normal.' THEN 'normal'\n",
    "                                ELSE 'ataque' \n",
    "                              END AS tipo_conexion, \n",
    "                              COUNT(*) AS count,\n",
    "                              CONCAT(ROUND(COUNT(*) / (SELECT COUNT(*) FROM connections) * 100, 2), '%') \n",
    "                              AS porcentaje\n",
    "                            FROM connections \n",
    "                            GROUP BY \n",
    "                              CASE \n",
    "                                WHEN label = 'normal.' THEN 'normal'\n",
    "                                ELSE 'ataque' \n",
    "                              END \n",
    "                            ORDER BY count DESC\n",
    "                           \"\"\")\n",
    "labels_bin.show()"
   ]
  },
  {
   "cell_type": "markdown",
   "id": "3f226c12",
   "metadata": {},
   "source": [
    "Incluso es posible mostrar la frecuencia de los accesos en un gráfico de barras. "
   ]
  },
  {
   "cell_type": "code",
   "execution_count": 23,
   "id": "67742cb1",
   "metadata": {},
   "outputs": [
    {
     "data": {
      "image/png": "[encoded data removed]",
      "text/plain": [
       "<Figure size 700x500 with 1 Axes>"
      ]
     },
     "metadata": {},
     "output_type": "display_data"
    },
    {
     "name": "stdout",
     "output_type": "stream",
     "text": [
      "CPU times: user 364 ms, sys: 0 ns, total: 364 ms\n",
      "Wall time: 536 ms\n"
     ]
    }
   ],
   "source": [
    "\n",
    "%%time\n",
    "\n",
    "labels_df = pd.DataFrame(labels.toPandas())\n",
    "labels_df.set_index(\"label\", drop=True, inplace=True)\n",
    "labels_fig = labels_df.plot(kind='barh')\n",
    "labels_fig.invert_yaxis()\n",
    "\n",
    "plt.rcParams[\"figure.figsize\"] = (7, 5)\n",
    "plt.rcParams.update({'font.size': 10})\n",
    "plt.tight_layout()\n",
    "\n",
    "plt.show()\n"
   ]
  },
  {
   "cell_type": "markdown",
   "id": "255ad8a7",
   "metadata": {},
   "source": [
    "Puede resultar interesante ver qué protocolos son más vulnerables a los ataques con la siguiente consulta SQL. "
   ]
  },
  {
   "cell_type": "code",
   "execution_count": 31,
   "id": "0348d05a",
   "metadata": {},
   "outputs": [
    {
     "name": "stderr",
     "output_type": "stream",
     "text": [
      "[Stage 37:================================================>         (5 + 1) / 6]\r"
     ]
    },
    {
     "name": "stdout",
     "output_type": "stream",
     "text": [
      "+-------------+---------+-------+\n",
      "|protocol_type|    state|   freq|\n",
      "+-------------+---------+-------+\n",
      "|         icmp|   attack|2820782|\n",
      "|          tcp|   attack|1101928|\n",
      "|          tcp|no attack| 768670|\n",
      "|          udp|no attack| 191348|\n",
      "|         icmp|no attack|  12763|\n",
      "|          udp|   attack|   2940|\n",
      "+-------------+---------+-------+\n",
      "\n",
      "CPU times: user 28 ms, sys: 22.4 ms, total: 50.4 ms\n",
      "Wall time: 1min 55s\n"
     ]
    },
    {
     "name": "stderr",
     "output_type": "stream",
     "text": [
      "                                                                                \r"
     ]
    }
   ],
   "source": [
    "\n",
    "%%time\n",
    "\n",
    "attack_protocol = sqlContext.sql(\"\"\"\n",
    "                           SELECT \n",
    "                             protocol_type, \n",
    "                             CASE label\n",
    "                               WHEN 'normal.' THEN 'no attack'\n",
    "                               ELSE 'attack'\n",
    "                             END AS state,\n",
    "                             COUNT(*) as freq\n",
    "                           FROM connections\n",
    "                           GROUP BY protocol_type, state\n",
    "                           ORDER BY 3 DESC\n",
    "                           \"\"\")\n",
    "attack_protocol.show()\n"
   ]
  },
  {
   "cell_type": "markdown",
   "id": "f9db3062",
   "metadata": {},
   "source": [
    "Según el resultado de la anterior consulta los protocolos más vulnerables son ICMP y TCP."
   ]
  },
  {
   "cell_type": "markdown",
   "id": "64f0f482",
   "metadata": {},
   "source": [
    "Incluso se pueden realizar cálculos estadísticos relacionados con los eventos de conexión según el protocolo. "
   ]
  },
  {
   "cell_type": "code",
   "execution_count": 37,
   "id": "b35fcba5",
   "metadata": {},
   "outputs": [
    {
     "name": "stderr",
     "output_type": "stream",
     "text": [
      "                                                                                \r"
     ]
    },
    {
     "name": "stdout",
     "output_type": "stream",
     "text": [
      "CPU times: user 53.5 ms, sys: 75.7 ms, total: 129 ms\n",
      "Wall time: 1min 40s\n"
     ]
    },
    {
     "data": {
      "text/html": [
       "<div>\n",
       "<style scoped>\n",
       "    .dataframe tbody tr th:only-of-type {\n",
       "        vertical-align: middle;\n",
       "    }\n",
       "\n",
       "    .dataframe tbody tr th {\n",
       "        vertical-align: top;\n",
       "    }\n",
       "\n",
       "    .dataframe thead th {\n",
       "        text-align: right;\n",
       "    }\n",
       "</style>\n",
       "<table border=\"1\" class=\"dataframe\">\n",
       "  <thead>\n",
       "    <tr style=\"text-align: right;\">\n",
       "      <th></th>\n",
       "      <th>protocol_type</th>\n",
       "      <th>state</th>\n",
       "      <th>total_freq</th>\n",
       "      <th>mean_src_bytes</th>\n",
       "      <th>mean_dst_bytes</th>\n",
       "      <th>mean_duration</th>\n",
       "      <th>total_failed_logins</th>\n",
       "      <th>total_compromised</th>\n",
       "      <th>total_file_creations</th>\n",
       "      <th>total_root_attempts</th>\n",
       "      <th>total_root_acceses</th>\n",
       "    </tr>\n",
       "  </thead>\n",
       "  <tbody>\n",
       "    <tr>\n",
       "      <th>0</th>\n",
       "      <td>icmp</td>\n",
       "      <td>attack</td>\n",
       "      <td>2820782</td>\n",
       "      <td>931.68</td>\n",
       "      <td>0.00</td>\n",
       "      <td>0.00</td>\n",
       "      <td>0</td>\n",
       "      <td>0</td>\n",
       "      <td>0</td>\n",
       "      <td>0.0</td>\n",
       "      <td>0</td>\n",
       "    </tr>\n",
       "    <tr>\n",
       "      <th>1</th>\n",
       "      <td>tcp</td>\n",
       "      <td>attack</td>\n",
       "      <td>1101928</td>\n",
       "      <td>4465.81</td>\n",
       "      <td>2005.96</td>\n",
       "      <td>22.60</td>\n",
       "      <td>61</td>\n",
       "      <td>2276</td>\n",
       "      <td>96</td>\n",
       "      <td>1.0</td>\n",
       "      <td>159</td>\n",
       "    </tr>\n",
       "    <tr>\n",
       "      <th>2</th>\n",
       "      <td>tcp</td>\n",
       "      <td>no attack</td>\n",
       "      <td>768670</td>\n",
       "      <td>1844.29</td>\n",
       "      <td>4071.32</td>\n",
       "      <td>11.48</td>\n",
       "      <td>96</td>\n",
       "      <td>37344</td>\n",
       "      <td>5727</td>\n",
       "      <td>179.0</td>\n",
       "      <td>63202</td>\n",
       "    </tr>\n",
       "    <tr>\n",
       "      <th>3</th>\n",
       "      <td>udp</td>\n",
       "      <td>no attack</td>\n",
       "      <td>191348</td>\n",
       "      <td>98.32</td>\n",
       "      <td>89.41</td>\n",
       "      <td>1061.26</td>\n",
       "      <td>0</td>\n",
       "      <td>0</td>\n",
       "      <td>0</td>\n",
       "      <td>0.0</td>\n",
       "      <td>0</td>\n",
       "    </tr>\n",
       "    <tr>\n",
       "      <th>4</th>\n",
       "      <td>icmp</td>\n",
       "      <td>no attack</td>\n",
       "      <td>12763</td>\n",
       "      <td>90.68</td>\n",
       "      <td>0.00</td>\n",
       "      <td>0.00</td>\n",
       "      <td>0</td>\n",
       "      <td>0</td>\n",
       "      <td>0</td>\n",
       "      <td>0.0</td>\n",
       "      <td>0</td>\n",
       "    </tr>\n",
       "    <tr>\n",
       "      <th>5</th>\n",
       "      <td>udp</td>\n",
       "      <td>attack</td>\n",
       "      <td>2940</td>\n",
       "      <td>26.40</td>\n",
       "      <td>0.82</td>\n",
       "      <td>0.00</td>\n",
       "      <td>0</td>\n",
       "      <td>0</td>\n",
       "      <td>0</td>\n",
       "      <td>0.0</td>\n",
       "      <td>0</td>\n",
       "    </tr>\n",
       "  </tbody>\n",
       "</table>\n",
       "</div>"
      ],
      "text/plain": [
       "  protocol_type      state  total_freq  mean_src_bytes  mean_dst_bytes  \\\n",
       "0          icmp     attack     2820782          931.68            0.00   \n",
       "1           tcp     attack     1101928         4465.81         2005.96   \n",
       "2           tcp  no attack      768670         1844.29         4071.32   \n",
       "3           udp  no attack      191348           98.32           89.41   \n",
       "4          icmp  no attack       12763           90.68            0.00   \n",
       "5           udp     attack        2940           26.40            0.82   \n",
       "\n",
       "   mean_duration  total_failed_logins  total_compromised  \\\n",
       "0           0.00                    0                  0   \n",
       "1          22.60                   61               2276   \n",
       "2          11.48                   96              37344   \n",
       "3        1061.26                    0                  0   \n",
       "4           0.00                    0                  0   \n",
       "5           0.00                    0                  0   \n",
       "\n",
       "   total_file_creations  total_root_attempts  total_root_acceses  \n",
       "0                     0                  0.0                   0  \n",
       "1                    96                  1.0                 159  \n",
       "2                  5727                179.0               63202  \n",
       "3                     0                  0.0                   0  \n",
       "4                     0                  0.0                   0  \n",
       "5                     0                  0.0                   0  "
      ]
     },
     "execution_count": 37,
     "metadata": {},
     "output_type": "execute_result"
    }
   ],
   "source": [
    "\n",
    "%%time\n",
    "\n",
    "attack_stats = sqlContext.sql(\"\"\"\n",
    "                           SELECT \n",
    "                             protocol_type, \n",
    "                             CASE label\n",
    "                               WHEN 'normal.' THEN 'no attack'\n",
    "                               ELSE 'attack'\n",
    "                             END AS state,\n",
    "                             COUNT(*) as total_freq,\n",
    "                             ROUND(AVG(src_bytes), 2) as mean_src_bytes,\n",
    "                             ROUND(AVG(dst_bytes), 2) as mean_dst_bytes,\n",
    "                             ROUND(AVG(duration), 2) as mean_duration,\n",
    "                             SUM(num_failed_logins) as total_failed_logins,\n",
    "                             SUM(num_compromised) as total_compromised,\n",
    "                             SUM(num_file_creations) as total_file_creations,\n",
    "                             SUM(su_attempted) as total_root_attempts,\n",
    "                             SUM(num_root) as total_root_acceses\n",
    "                           FROM connections\n",
    "                           GROUP BY protocol_type, state\n",
    "                           ORDER BY 3 DESC\n",
    "                           \"\"\")\n",
    "pandas_df = attack_stats.toPandas()\n",
    "\n",
    "pandas_df\n"
   ]
  },
  {
   "cell_type": "code",
   "execution_count": 46,
   "id": "0cfd9b91",
   "metadata": {},
   "outputs": [],
   "source": [
    "# Recuerda detener el SC una vez finalizados todos los procesos \n",
    " sc.stop()"
   ]
  },
  {
   "cell_type": "markdown",
   "id": "12b944a7",
   "metadata": {},
   "source": [
    "Como se ha podido observar a lo largo de este capítulo, es posible realizar consultas en SQL sobre nuestro dataset sin necesidad de aprender un nuevo lenguaje como lo sería Scala. Igualmente, se aprovecha el rendimiento que ofrece Spark y el almacenamiento distribuido en HDFS, con la practicidad de trabajar desde un cuaderno de Jupyter. "
   ]
  },
  {
   "cell_type": "code",
   "execution_count": null,
   "id": "2d41dd86",
   "metadata": {},
   "outputs": [],
   "source": []
  }
 ],
 "metadata": {
  "kernelspec": {
   "display_name": "Python 3 (ipykernel)",
   "language": "python",
   "name": "python3"
  },
  "language_info": {
   "codemirror_mode": {
    "name": "ipython",
    "version": 3
   },
   "file_extension": ".py",
   "mimetype": "text/x-python",
   "name": "python",
   "nbconvert_exporter": "python",
   "pygments_lexer": "ipython3",
   "version": "3.10.6"
  }
 },
 "nbformat": 4,
 "nbformat_minor": 5
}
