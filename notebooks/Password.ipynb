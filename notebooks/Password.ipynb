{
 "cells": [
  {
   "cell_type": "code",
   "execution_count": 6,
   "metadata": {},
   "outputs": [
    {
     "name": "stdout",
     "output_type": "stream",
     "text": [
      "sha256:c50b7170426f:1f21ba79a758b36c664713b4670dcd4a6a44cbd73793339aff93160545ff6dc0\n"
     ]
    }
   ],
   "source": [
    "from notebook.auth import passwd\n",
    "hashed_password = passwd(passphrase='jupyterpassword', algorithm='sha256')\n",
    "\n",
    "print(hashed_password)"
   ]
  }
 ],
 "metadata": {
  "kernelspec": {
   "display_name": "base",
   "language": "python",
   "name": "python3"
  },
  "language_info": {
   "codemirror_mode": {
    "name": "ipython",
    "version": 3
   },
   "file_extension": ".py",
   "mimetype": "text/x-python",
   "name": "python",
   "nbconvert_exporter": "python",
   "pygments_lexer": "ipython3",
   "version": "3.9.12"
  },
  "orig_nbformat": 4
 },
 "nbformat": 4,
 "nbformat_minor": 2
}
